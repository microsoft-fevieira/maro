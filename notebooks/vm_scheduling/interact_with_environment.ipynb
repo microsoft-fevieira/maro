{
 "cells": [
  {
   "cell_type": "markdown",
   "source": [
    "# Quick Start\n",
    "\n",
    "Below is a simple demo of interaction with the environment of the VM scheduling scenario."
   ],
   "metadata": {}
  },
  {
   "cell_type": "code",
   "execution_count": 2,
   "source": [
    "from maro.simulator import Env\r\n",
    "from maro.simulator.scenarios.vm_scheduling import AllocateAction, DecisionPayload\r\n",
    "\r\n",
    "env = Env(scenario=\"vm_scheduling\", topology=\"azure.2019.10k\", start_tick=0, durations=8638, snapshot_resolution=1)\r\n",
    "\r\n",
    "metrics: object = None\r\n",
    "decision_payload: DecisionPayload = None\r\n",
    "is_done: bool = False\r\n",
    "\r\n",
    "while not is_done:\r\n",
    "    action: AllocateAction = None\r\n",
    "    metrics, decision_payload, is_done = env.step(action)\r\n",
    "\r\n",
    "print(metrics)"
   ],
   "outputs": [
    {
     "output_type": "stream",
     "name": "stdout",
     "text": [
      "{'total_vm_requests': 10000, 'total_energy_consumption': 863800.0, 'successful_allocation': 0, 'successful_completion': 0, 'failed_allocation': 0, 'failed_completion': 0, 'total_latency': Latency(Agent=0, Resource=0), 'total_oversubscriptions': 0, 'total_overload_pms': 0, 'total_overload_vms': 0}\n"
     ]
    }
   ],
   "metadata": {}
  },
  {
   "cell_type": "markdown",
   "source": [
    "# Environment of the VM scheduling\r\n",
    "\r\n",
    "To initialize an environment, you need to specify the values of several parameters:\r\n",
    "\r\n",
    "- **scenario**: The target scenario of this Env.\r\n",
    "  - `vm_scheduling` denotes for the virtual machine scheduling.\r\n",
    "- **topology**: The target topology of this Env. As shown below, you can get the predefined topology list by calling `get_topologies(scenario='vm_scheduling')`\r\n",
    "- **start_tick**: The start tick of this Env. In vm_scheduling scenario, 1 tick represents as 5 minutes in real-time.\r\n",
    "  - In the demo above, `start_tick=0` indicates a simulation start from the beginning of the given topology.\r\n",
    "- **durations**: The duration of this Env, in the unit of tick/5 minutes.\r\n",
    "  - In the demo above, `durations=8638` indicates a simulation length of roughly 30 days (30d * 24h * 60m / 5). It is also the maximum length of this topology.\r\n",
    "- **snapshot_resolution**: The time granularity of maintaining the snapshots of the environments, in the unit of tick/5 minutes.\r\n",
    "  - In the demo above, `snapshot_resolution=1` indicates that a snapshot will be created and saved every tick during the simulation.\r\n",
    "  \r\n",
    "You can get all available scenarios and topologies by calling:"
   ],
   "metadata": {}
  },
  {
   "cell_type": "code",
   "execution_count": 3,
   "source": [
    "from maro.simulator.utils import get_scenarios, get_topologies\r\n",
    "from pprint import pprint\r\n",
    "from typing import List\r\n",
    "\r\n",
    "scenarios: List[str] = get_scenarios()\r\n",
    "topologies: List[str] = get_topologies(scenario='vm_scheduling')\r\n",
    "\r\n",
    "pprint(f'The available scenarios in MARO:')\r\n",
    "pprint(scenarios)\r\n",
    "\r\n",
    "print()\r\n",
    "pprint(f'The predefined topologies in VM Scheduling:')\r\n",
    "pprint(topologies)"
   ],
   "outputs": [
    {
     "output_type": "stream",
     "name": "stdout",
     "text": [
      "'The available scenarios in MARO:'\n",
      "['cim', 'citi_bike', 'vm_scheduling']\n",
      "\n",
      "'The predefined topologies in VM Scheduling:'\n",
      "['azure.2019.10k', 'azure.2019.336k']\n"
     ]
    }
   ],
   "metadata": {}
  },
  {
   "cell_type": "markdown",
   "source": [
    "Once you created an instance of the environment, you can easily access the real-time information of this environment, like:"
   ],
   "metadata": {}
  },
  {
   "cell_type": "code",
   "execution_count": 4,
   "source": [
    "from maro.backends.frame import SnapshotList\r\n",
    "from maro.simulator import Env\r\n",
    "from pprint import pprint\r\n",
    "\r\n",
    "\r\n",
    "# Initialize an Env for vm_scheduling scenario.\r\n",
    "env = Env(scenario=\"vm_scheduling\", topology=\"azure.2019.10k\", start_tick=0, durations=8638, snapshot_resolution=1)\r\n",
    "\r\n",
    "# The current tick.\r\n",
    "tick: int = env.tick\r\n",
    "print(f\"The current tick: {tick}.\")\r\n",
    "\r\n",
    "# The current frame index, which indicates the index of current frame in the snapshot-list.\r\n",
    "frame_index: int = env.frame_index\r\n",
    "print(f\"The current frame index: {frame_index}.\")\r\n",
    "\r\n",
    "# The whole snapshot-list of the environment, snapshots are taken in the granularity of the given snapshot_resolution.\r\n",
    "# The example of how to use the snapshot will be shown later.\r\n",
    "snapshot_list: SnapshotList = env.snapshot_list\r\n",
    "print(f\"There will be {len(snapshot_list)} snapshots in total.\")\r\n",
    "\r\n",
    "# The summary information of the environment.\r\n",
    "summary: dict = env.summary\r\n",
    "print(f\"\\nEnv Summary:\")\r\n",
    "pprint(summary)\r\n",
    "\r\n",
    "# The metrics of the environment\r\n",
    "metrics: dict = env.metrics\r\n",
    "print(f\"\\nEnv Metrics:\")\r\n",
    "pprint(metrics)"
   ],
   "outputs": [
    {
     "output_type": "stream",
     "name": "stdout",
     "text": [
      "The current tick: 0.\n",
      "The current frame index: 0.\n",
      "There will be 8638 snapshots in total.\n",
      "\n",
      "Env Summary:\n",
      "{'event_payload': {'PENDING_DECISION': ['frame_index',\n",
      "                                        'valid_pms',\n",
      "                                        'vm_id',\n",
      "                                        'vm_cpu_cores_requirement',\n",
      "                                        'vm_memory_requirement',\n",
      "                                        'remaining_buffer_time'],\n",
      "                   'REQUEST': ['vm_info', 'remaining_buffer_time']},\n",
      " 'node_detail': {'pms': {'attributes': {'cpu_cores_allocated': {'slots': 1,\n",
      "                                                                'type': 'i2'},\n",
      "                                        'cpu_cores_capacity': {'slots': 1,\n",
      "                                                               'type': 'i2'},\n",
      "                                        'cpu_utilization': {'slots': 1,\n",
      "                                                            'type': 'f'},\n",
      "                                        'energy_consumption': {'slots': 1,\n",
      "                                                               'type': 'f'},\n",
      "                                        'id': {'slots': 1, 'type': 'i'},\n",
      "                                        'memory_allocated': {'slots': 1,\n",
      "                                                             'type': 'i2'},\n",
      "                                        'memory_capacity': {'slots': 1,\n",
      "                                                            'type': 'i2'},\n",
      "                                        'oversubscribable': {'slots': 1,\n",
      "                                                             'type': 'i2'},\n",
      "                                        'pm_type': {'slots': 1, 'type': 'i2'}},\n",
      "                         'number': 100}},\n",
      " 'node_mapping': {}}\n",
      "\n",
      "Env Metrics:\n",
      "{'total_vm_requests': 0, 'total_energy_consumption': 0.0, 'successful_allocation': 0, 'successful_completion': 0, 'failed_allocation': 0, 'failed_completion': 0, 'total_latency': Latency(Agent=0, Resource=0), 'total_oversubscriptions': 0, 'total_overload_pms': 0, 'total_overload_vms': 0}\n"
     ]
    }
   ],
   "metadata": {}
  },
  {
   "cell_type": "markdown",
   "source": [
    "# Interaction with the environment\r\n",
    "\r\n",
    "Before starting interaction with the environment, we need to know **DecisionPayload** and **Action** first.\r\n",
    "\r\n",
    "## DecisionPayload\r\n",
    "\r\n",
    "Once the environment need the agent's response to promote the simulation, it will throw an **PendingDecision** event with the **DecisionPayload**. In the scenario of vm_scheduling, the information of `DecisionPayload` is listed as below:\r\n",
    "- **valid_pms** (List[int]): The list of the PM ID that is considered as valid (its CPU and memory resource is enough for the incoming VM request).\r\n",
    "- **vm_id** (int): The VM ID of the incoming VM request(VM request that is waiting for the allocation).\r\n",
    "- **vm_cpu_cores_requirement** (int): The CPU cores that is requested by the incoming VM request.\r\n",
    "- **vm_memory_requirement** (int): The memory resource that is requested by the incoming VM request.\r\n",
    "- **remaining_buffer_time** (int): The remaining buffer time for the VM allocation. The VM request will be treated as failed when the `remaining_buffer_time` is spent. The initial buffer time budget can be set in the `config.yml`.\r\n",
    "\r\n",
    "## Action\r\n",
    "Once get a **PendingDecision** event from the environment, the agent should respond with an `Action`. Valid `Action` includes:\r\n",
    "- **None**. It means do nothing but ignore this VM request.\r\n",
    "- **AllocateAction**. It includes:\r\n",
    "  - vm_id (int): The ID of the VM that is waiting for the allocation.\r\n",
    "  - pm_id (int): The ID of the PM where the VM is scheduled to allocate to.\r\n",
    "- **PostponeAction**. It includes:\r\n",
    "  - vm_id (int): The ID of the VM that is waiting for the allocation.\r\n",
    "  - postpone_step (int): The number of times that the allocation to be postponed. The unit is `DELAY_DURATION`. 1 means delay 1 `DELAY_DURATION`, which can be set in the `config.yml`.\r\n",
    " \r\n",
    "## Generate random actions\r\n",
    "\r\n",
    "The demo code in the Quick Start part has shown an interaction mode that doing nothing(responding with `None` action). Here we read the detailed information about the `DecisionPayload` and randomly choose an available PM."
   ],
   "metadata": {}
  },
  {
   "cell_type": "code",
   "execution_count": 5,
   "source": [
    "import random\r\n",
    "\r\n",
    "from maro.simulator import Env\r\n",
    "from maro.simulator.scenarios.vm_scheduling import AllocateAction, DecisionPayload, PostponeAction\r\n",
    "\r\n",
    "# Initialize an Env for vm_scheduling scenario\r\n",
    "env = Env(scenario=\"vm_scheduling\", topology=\"azure.2019.10k\", start_tick=0, durations=8638, snapshot_resolution=1)\r\n",
    "\r\n",
    "metrics: object = None\r\n",
    "decision_event: DecisionPayload = None\r\n",
    "is_done: bool = False\r\n",
    "action: AllocateAction = None\r\n",
    "    \r\n",
    "# Start the env with a None Action\r\n",
    "metrics, decision_event, is_done = env.step(None)\r\n",
    "\r\n",
    "while not is_done:\r\n",
    "    valid_pm_num: int = len(decision_event.valid_pms)\r\n",
    "    if valid_pm_num <= 0:\r\n",
    "        # No valid PM now, postpone.\r\n",
    "        action: PostponeAction = PostponeAction(\r\n",
    "            vm_id=decision_event.vm_id,\r\n",
    "            postpone_step=1\r\n",
    "        )\r\n",
    "    else:\r\n",
    "        # Randomly choose an available PM.\r\n",
    "        random_idx = random.randint(0, valid_pm_num - 1)\r\n",
    "        pm_id = decision_event.valid_pms[random_idx]\r\n",
    "        action: AllocateAction = AllocateAction(\r\n",
    "            vm_id=decision_event.vm_id,\r\n",
    "            pm_id=pm_id\r\n",
    "        )\r\n",
    "    metrics, decision_event, is_done = env.step(action)\r\n",
    "\r\n",
    "print(f\"[Random] Topology: azure.2019.10k. Total ticks: 8638. Start tick: 0\")\r\n",
    "print(metrics)"
   ],
   "outputs": [
    {
     "output_type": "stream",
     "name": "stdout",
     "text": [
      "[Random] Topology: azure.2019.10k. Total ticks: 8638. Start tick: 0\n",
      "{'total_vm_requests': 10000, 'total_energy_consumption': 2419711.6239830256, 'successful_allocation': 9902, 'successful_completion': 9084, 'failed_allocation': 98, 'failed_completion': 0, 'total_latency': Latency(Agent=0, Resource=0), 'total_oversubscriptions': 34415, 'total_overload_pms': 0, 'total_overload_vms': 0}\n"
     ]
    }
   ],
   "metadata": {}
  },
  {
   "cell_type": "markdown",
   "source": [
    "# Get the environment observation\n",
    "\n",
    "You can also implement other strategies or build models to take action. At this time, real-time information and historical records of the environment are very important for making good decisions. In this case, the the environment snapshot list is exactly what you need.\n",
    "\n",
    "The information in the snapshot list is indexed by 3 dimensions:\n",
    "\n",
    "- A frame index (list). (int / List[int]) Empty indicates for all time slides till now.\n",
    "- A PM id (list). (int / List[int]) Empty indicates for all PMs.\n",
    "- An Attribute name (list). (str / List[str]) You can get all available attributes in env.summary as shown before.\n",
    "\n",
    "The return value from the snapshot list is a `numpy.ndarray` with shape (`num_frame` * `num_pms` * `num_attribute`, ).\n",
    "\n",
    "More detailed introduction to the snapshot list is [here](https://maro.readthedocs.io/en/latest/key_components/data_model.html#advanced-features)."
   ],
   "metadata": {}
  },
  {
   "cell_type": "code",
   "execution_count": 6,
   "source": [
    "from pprint import pprint\n",
    "\n",
    "from maro.simulator import Env\n",
    "\n",
    "# Initialize an Env for vm_scheduling scenario\n",
    "env = Env(scenario=\"vm_scheduling\", topology=\"azure.2019.10k\", start_tick=0, durations=8638, snapshot_resolution=1)\n",
    "\n",
    "# To get the attribute list that can be accessed in snapshot_list\n",
    "pprint(env.summary['node_detail'], depth=2)\n",
    "print()\n",
    "# The attribute list of stations\n",
    "pprint(env.summary['node_detail']['pms'])"
   ],
   "outputs": [
    {
     "output_type": "stream",
     "name": "stdout",
     "text": [
      "{'pms': {'attributes': {...}, 'number': 100}}\n",
      "\n",
      "{'attributes': {'cpu_cores_allocated': {'slots': 1, 'type': 'i2'},\n",
      "                'cpu_cores_capacity': {'slots': 1, 'type': 'i2'},\n",
      "                'cpu_utilization': {'slots': 1, 'type': 'f'},\n",
      "                'energy_consumption': {'slots': 1, 'type': 'f'},\n",
      "                'id': {'slots': 1, 'type': 'i'},\n",
      "                'memory_allocated': {'slots': 1, 'type': 'i2'},\n",
      "                'memory_capacity': {'slots': 1, 'type': 'i2'},\n",
      "                'oversubscribable': {'slots': 1, 'type': 'i2'},\n",
      "                'pm_type': {'slots': 1, 'type': 'i2'}},\n",
      " 'number': 100}\n"
     ]
    }
   ],
   "metadata": {}
  },
  {
   "cell_type": "code",
   "execution_count": 7,
   "source": [
    "from pprint import pprint\n",
    "\n",
    "from maro.simulator import Env\n",
    "from maro.simulator.scenarios.vm_scheduling import AllocateAction, DecisionPayload, PostponeAction\n",
    "\n",
    "env = Env(scenario=\"vm_scheduling\", topology=\"azure.2019.10k\", start_tick=0, durations=8638, snapshot_resolution=1)\n",
    "\n",
    "metrics: object = None\n",
    "decision_event: DecisionPayload = None\n",
    "is_done: bool = False\n",
    "action: AllocateAction = None\n",
    "    \n",
    "metrics, decision_event, is_done = env.step(None)\n",
    "\n",
    "while not is_done:\n",
    "    # This demo is used to show how to retrieve the information from the snapshot,\n",
    "    # we terminate at 2000th tick and see the output of the environment.\n",
    "    if env.frame_index >= 2000 and len(decision_event.valid_pms) > 0:\n",
    "        # Get current state information of the first 10 valid PMs.\n",
    "        valid_pm_info = env.snapshot_list[\"pms\"][\n",
    "            env.frame_index:decision_event.valid_pms[:10]:[\"cpu_cores_capacity\", \"cpu_cores_allocated\"]\n",
    "        ].reshape(-1, 2)\n",
    "        # Calculate to get the remaining cpu cores.\n",
    "        cpu_cores_remaining = valid_pm_info[:, 0] - valid_pm_info[:, 1]\n",
    "        # Show current state information of the first 10 valid PMs.\n",
    "        print(\"For the first 10 valid PMs:\")\n",
    "        print(f\"cpu core capacity:  {valid_pm_info[:, 0]}\")\n",
    "        print(f\"cpu core allocated: {valid_pm_info[:, 1]}\")\n",
    "        print(f\"cpu core remaining: {cpu_cores_remaining}\")\n",
    "        \n",
    "        # Get the historical cpu utilization of the first valid PM in the recent 10 ticks.\n",
    "        past_10_frames = [x for x in range(env.frame_index - 10, env.frame_index)]\n",
    "        cpu_utilization_series = env.snapshot_list[\"pms\"][\n",
    "            past_10_frames:decision_event.valid_pms[0]:\"cpu_utilization\"\n",
    "        ]\n",
    "        # Show the historical information of the first valid PM.\n",
    "        print(\"For the first valid PM:\")\n",
    "        print(f\"Recent cpu utilization series is: {cpu_utilization_series}\")\n",
    "        \n",
    "        break\n",
    "\n",
    "    valid_pm_num: int = len(decision_event.valid_pms)\n",
    "    if valid_pm_num <= 0:\n",
    "        # No valid PM now, postpone.\n",
    "        action: PostponeAction = PostponeAction(\n",
    "            vm_id=decision_event.vm_id,\n",
    "            postpone_step=1\n",
    "        )\n",
    "    else:\n",
    "        # Randomly choose an available PM.\n",
    "        random_idx = random.randint(0, valid_pm_num - 1)\n",
    "        pm_id = decision_event.valid_pms[random_idx]\n",
    "        action: AllocateAction = AllocateAction(\n",
    "            vm_id=decision_event.vm_id,\n",
    "            pm_id=pm_id\n",
    "        )\n",
    "    metrics, decision_event, is_done = env.step(action)"
   ],
   "outputs": [
    {
     "output_type": "stream",
     "name": "stdout",
     "text": [
      "For the first 10 valid PMs:\n",
      "cpu core capacity:  [32. 32. 32. 32. 32. 32. 32. 32. 32. 32.]\n",
      "cpu core allocated: [20. 20. 18. 26. 16. 24. 26. 24. 28. 26.]\n",
      "cpu core remaining: [12. 12. 14.  6. 16.  8.  6.  8.  4.  6.]\n",
      "For the first valid PM:\n",
      "Recent cpu utilization series is: [4.43 4.68 3.98 3.59 4.64 4.3  4.76 4.52 3.83 4.02]\n"
     ]
    }
   ],
   "metadata": {}
  },
  {
   "cell_type": "code",
   "execution_count": null,
   "source": [],
   "outputs": [],
   "metadata": {}
  }
 ],
 "metadata": {
  "kernelspec": {
   "display_name": "Python 3",
   "language": "python",
   "name": "python3"
  },
  "language_info": {
   "codemirror_mode": {
    "name": "ipython",
    "version": 3
   },
   "file_extension": ".py",
   "mimetype": "text/x-python",
   "name": "python",
   "nbconvert_exporter": "python",
   "pygments_lexer": "ipython3",
   "version": "3.8.5"
  }
 },
 "nbformat": 4,
 "nbformat_minor": 4
}